{
 "cells": [
  {
   "cell_type": "markdown",
   "metadata": {},
   "source": [
    "<img src=\"https://www.colorado.edu/rc/sites/default/files/page/logo.png\"\n",
    "     alt=\"Logo for Research Computing @ University of Colorado Boulder\"\n",
    "     width=\"400\" />"
   ]
  },
  {
   "cell_type": "markdown",
   "metadata": {
    "slideshow": {
     "slide_type": "slide"
    }
   },
   "source": [
    "# Parallel magic commands"
   ]
  },
  {
   "cell_type": "code",
   "execution_count": 1,
   "metadata": {
    "collapsed": true
   },
   "outputs": [],
   "source": [
    "!ipcluster start -n 4 --daemonize"
   ]
  },
  {
   "cell_type": "code",
   "execution_count": 2,
   "metadata": {},
   "outputs": [
    {
     "data": {
      "text/plain": [
       "[0, 1, 2, 3]"
      ]
     },
     "execution_count": 2,
     "metadata": {},
     "output_type": "execute_result"
    }
   ],
   "source": [
    "from ipyparallel import Client\n",
    "profile = 'example-shas'\n",
    "rc = ipyparallel.Client(profile=profile)\n",
    "rc.ids"
   ]
  },
  {
   "cell_type": "markdown",
   "metadata": {},
   "source": [
    "## Simple access to the python engines of the cluster"
   ]
  },
  {
   "cell_type": "markdown",
   "metadata": {},
   "source": [
    "Using command `%px` or cellmagic `%%px`"
   ]
  },
  {
   "cell_type": "code",
   "execution_count": 3,
   "metadata": {},
   "outputs": [
    {
     "name": "stdout",
     "output_type": "stream",
     "text": [
      "[stdout:0] schleppy-pro.local\n",
      "[stdout:1] schleppy-pro.local\n",
      "[stdout:2] schleppy-pro.local\n",
      "[stdout:3] schleppy-pro.local\n"
     ]
    }
   ],
   "source": [
    "%%px \n",
    "import socket\n",
    "hostname = socket.gethostname()\n",
    "print(hostname)"
   ]
  },
  {
   "cell_type": "code",
   "execution_count": 4,
   "metadata": {
    "slideshow": {
     "slide_type": "slide"
    }
   },
   "outputs": [
    {
     "name": "stdout",
     "output_type": "stream",
     "text": [
      "[stdout:0] schleppy-pro.local\n",
      "[stdout:2] schleppy-pro.local\n"
     ]
    }
   ],
   "source": [
    "%%px --target ::2\n",
    "hostname = socket.gethostname()\n",
    "print(hostname)"
   ]
  },
  {
   "cell_type": "markdown",
   "metadata": {
    "slideshow": {
     "slide_type": "slide"
    }
   },
   "source": [
    "### Non-blocking execution on the engines"
   ]
  },
  {
   "cell_type": "code",
   "execution_count": 5,
   "metadata": {},
   "outputs": [
    {
     "data": {
      "text/plain": [
       "<AsyncResult: execute>"
      ]
     },
     "execution_count": 5,
     "metadata": {},
     "output_type": "execute_result"
    }
   ],
   "source": [
    "%%px --noblock\n",
    "import time\n",
    "time.sleep(1)\n",
    "hostname = socket.gethostname()\n",
    "print(hostname)"
   ]
  },
  {
   "cell_type": "code",
   "execution_count": 6,
   "metadata": {},
   "outputs": [
    {
     "name": "stdout",
     "output_type": "stream",
     "text": [
      "[stdout:0] schleppy-pro.local\n",
      "[stdout:1] schleppy-pro.local\n",
      "[stdout:2] schleppy-pro.local\n",
      "[stdout:3] schleppy-pro.local\n"
     ]
    }
   ],
   "source": [
    "%pxresult"
   ]
  },
  {
   "cell_type": "code",
   "execution_count": 7,
   "metadata": {
    "slideshow": {
     "slide_type": "subslide"
    }
   },
   "outputs": [
    {
     "ename": "NameError",
     "evalue": "name 'hostname' is not defined",
     "output_type": "error",
     "traceback": [
      "\u001b[0;31m---------------------------------------------------------------------------\u001b[0m",
      "\u001b[0;31mNameError\u001b[0m                                 Traceback (most recent call last)",
      "\u001b[0;32m<ipython-input-7-a84ec8c5eb8c>\u001b[0m in \u001b[0;36m<module>\u001b[0;34m\u001b[0m\n\u001b[0;32m----> 1\u001b[0;31m \u001b[0mhostname\u001b[0m\u001b[0;34m\u001b[0m\u001b[0;34m\u001b[0m\u001b[0m\n\u001b[0m",
      "\u001b[0;31mNameError\u001b[0m: name 'hostname' is not defined"
     ]
    }
   ],
   "source": [
    "hostname"
   ]
  },
  {
   "cell_type": "code",
   "execution_count": 8,
   "metadata": {},
   "outputs": [
    {
     "name": "stdout",
     "output_type": "stream",
     "text": [
      "[stdout:0] schleppy-pro.local\n",
      "[stdout:1] schleppy-pro.local\n",
      "[stdout:2] schleppy-pro.local\n",
      "[stdout:3] schleppy-pro.local\n"
     ]
    }
   ],
   "source": [
    "%px print(hostname)"
   ]
  },
  {
   "cell_type": "markdown",
   "metadata": {
    "slideshow": {
     "slide_type": "slide"
    }
   },
   "source": [
    "### Auto-parallel"
   ]
  },
  {
   "cell_type": "code",
   "execution_count": 9,
   "metadata": {},
   "outputs": [
    {
     "name": "stdout",
     "output_type": "stream",
     "text": [
      "%autopx enabled\n"
     ]
    }
   ],
   "source": [
    "%autopx"
   ]
  },
  {
   "cell_type": "code",
   "execution_count": 10,
   "metadata": {},
   "outputs": [
    {
     "data": {
      "text/plain": [
       "\u001b[0;31mOut[0:8]: \u001b[0m'schleppy-pro.local'"
      ]
     },
     "metadata": {
      "after": [],
      "completed": "2019-05-21T03:32:29.896863",
      "data": {},
      "engine_id": 0,
      "engine_uuid": "d9ef206a-d85b615a7d4fdb9d969dea93",
      "error": null,
      "execute_input": "socket.gethostname()",
      "execute_result": {
       "data": {
        "text/plain": "'schleppy-pro.local'"
       },
       "execution_count": 8,
       "metadata": {}
      },
      "follow": [],
      "msg_id": "218853b7-63e2b05832ab278835ebe883",
      "outputs": [],
      "received": "2019-05-21T03:32:29.902171",
      "started": "2019-05-21T03:32:29.880860",
      "status": "ok",
      "stderr": "",
      "stdout": "",
      "submitted": "2019-05-21T03:32:29.876889"
     },
     "output_type": "display_data"
    },
    {
     "data": {
      "text/plain": [
       "\u001b[0;31mOut[1:7]: \u001b[0m'schleppy-pro.local'"
      ]
     },
     "metadata": {
      "after": [],
      "completed": "2019-05-21T03:32:29.896622",
      "data": {},
      "engine_id": 1,
      "engine_uuid": "96bdb4e8-032f89e1417d32f2bda74753",
      "error": null,
      "execute_input": "socket.gethostname()",
      "execute_result": {
       "data": {
        "text/plain": "'schleppy-pro.local'"
       },
       "execution_count": 7,
       "metadata": {}
      },
      "follow": [],
      "msg_id": "89a92406-8e223d2819e7969ade239794",
      "outputs": [],
      "received": "2019-05-21T03:32:29.900789",
      "started": "2019-05-21T03:32:29.880699",
      "status": "ok",
      "stderr": "",
      "stdout": "",
      "submitted": "2019-05-21T03:32:29.877120"
     },
     "output_type": "display_data"
    },
    {
     "data": {
      "text/plain": [
       "\u001b[0;31mOut[2:8]: \u001b[0m'schleppy-pro.local'"
      ]
     },
     "metadata": {
      "after": [],
      "completed": "2019-05-21T03:32:29.898208",
      "data": {},
      "engine_id": 2,
      "engine_uuid": "0bd8d381-548b4bc20590c215db9a6b9c",
      "error": null,
      "execute_input": "socket.gethostname()",
      "execute_result": {
       "data": {
        "text/plain": "'schleppy-pro.local'"
       },
       "execution_count": 8,
       "metadata": {}
      },
      "follow": [],
      "msg_id": "602b68b4-24cf8f6186adfc4dd9946d20",
      "outputs": [],
      "received": "2019-05-21T03:32:29.904657",
      "started": "2019-05-21T03:32:29.880847",
      "status": "ok",
      "stderr": "",
      "stdout": "",
      "submitted": "2019-05-21T03:32:29.877281"
     },
     "output_type": "display_data"
    },
    {
     "data": {
      "text/plain": [
       "\u001b[0;31mOut[3:7]: \u001b[0m'schleppy-pro.local'"
      ]
     },
     "metadata": {
      "after": [],
      "completed": "2019-05-21T03:32:29.898131",
      "data": {},
      "engine_id": 3,
      "engine_uuid": "eb66ed6e-5c61d7af1370d75d0836ab0b",
      "error": null,
      "execute_input": "socket.gethostname()",
      "execute_result": {
       "data": {
        "text/plain": "'schleppy-pro.local'"
       },
       "execution_count": 7,
       "metadata": {}
      },
      "follow": [],
      "msg_id": "73663a7c-9ba69bfc0966df26ef15dbaf",
      "outputs": [],
      "received": "2019-05-21T03:32:29.903462",
      "started": "2019-05-21T03:32:29.881823",
      "status": "ok",
      "stderr": "",
      "stdout": "",
      "submitted": "2019-05-21T03:32:29.877419"
     },
     "output_type": "display_data"
    }
   ],
   "source": [
    "socket.gethostname()"
   ]
  },
  {
   "cell_type": "code",
   "execution_count": 11,
   "metadata": {},
   "outputs": [
    {
     "name": "stdout",
     "output_type": "stream",
     "text": [
      "%autopx disabled\n"
     ]
    }
   ],
   "source": [
    "%autopx"
   ]
  },
  {
   "cell_type": "markdown",
   "metadata": {
    "slideshow": {
     "slide_type": "slide"
    }
   },
   "source": [
    "### %pxconfig"
   ]
  },
  {
   "cell_type": "code",
   "execution_count": 12,
   "metadata": {},
   "outputs": [
    {
     "data": {
      "text/plain": [
       "\u001b[0;31mOut[1:8]: \u001b[0m'schleppy-pro.local'"
      ]
     },
     "metadata": {
      "after": [],
      "completed": "2019-05-21T03:32:35.605532",
      "data": {},
      "engine_id": 1,
      "engine_uuid": "96bdb4e8-032f89e1417d32f2bda74753",
      "error": null,
      "execute_input": "socket.gethostname()",
      "execute_result": {
       "data": {
        "text/plain": "'schleppy-pro.local'"
       },
       "execution_count": 8,
       "metadata": {}
      },
      "follow": [],
      "msg_id": "05f274d3-05f1b86dde1afacffbbe5242",
      "outputs": [],
      "received": "2019-05-21T03:32:35.608943",
      "started": "2019-05-21T03:32:35.601525",
      "status": "ok",
      "stderr": "",
      "stdout": "",
      "submitted": "2019-05-21T03:32:35.598056"
     },
     "output_type": "display_data"
    },
    {
     "data": {
      "text/plain": [
       "\u001b[0;31mOut[3:8]: \u001b[0m'schleppy-pro.local'"
      ]
     },
     "metadata": {
      "after": [],
      "completed": "2019-05-21T03:32:35.606812",
      "data": {},
      "engine_id": 3,
      "engine_uuid": "eb66ed6e-5c61d7af1370d75d0836ab0b",
      "error": null,
      "execute_input": "socket.gethostname()",
      "execute_result": {
       "data": {
        "text/plain": "'schleppy-pro.local'"
       },
       "execution_count": 8,
       "metadata": {}
      },
      "follow": [],
      "msg_id": "337212dd-b09225a2b9b07ebcec960043",
      "outputs": [],
      "received": "2019-05-21T03:32:35.610549",
      "started": "2019-05-21T03:32:35.602410",
      "status": "ok",
      "stderr": "",
      "stdout": "",
      "submitted": "2019-05-21T03:32:35.598331"
     },
     "output_type": "display_data"
    }
   ],
   "source": [
    "%pxconfig --targets 1::2\n",
    "%px socket.gethostname()"
   ]
  },
  {
   "cell_type": "markdown",
   "metadata": {
    "slideshow": {
     "slide_type": "slide"
    }
   },
   "source": [
    "#  Function Decorators\n",
    "## `Remote` functions\n",
    "\n",
    "- Like normal functions\n",
    "- Execute on one or more engines"
   ]
  },
  {
   "cell_type": "code",
   "execution_count": 14,
   "metadata": {},
   "outputs": [
    {
     "data": {
      "text/plain": [
       "['schleppy-pro.local',\n",
       " 'schleppy-pro.local',\n",
       " 'schleppy-pro.local',\n",
       " 'schleppy-pro.local']"
      ]
     },
     "execution_count": 14,
     "metadata": {},
     "output_type": "execute_result"
    }
   ],
   "source": [
    "cview = rc[:]\n",
    "@cview.remote(block=True)\n",
    "def gethostname():\n",
    "    import socket\n",
    "    return socket.gethostname()\n",
    "\n",
    "gethostname()"
   ]
  },
  {
   "cell_type": "code",
   "execution_count": 15,
   "metadata": {},
   "outputs": [
    {
     "name": "stdout",
     "output_type": "stream",
     "text": [
      "2019-05-20 21:37:01.394 [IPClusterStop] Stopping cluster [pid=32327] with [signal=<Signals.SIGINT: 2>]\r\n"
     ]
    }
   ],
   "source": [
    "!ipcluster stop"
   ]
  },
  {
   "cell_type": "code",
   "execution_count": null,
   "metadata": {
    "collapsed": true
   },
   "outputs": [],
   "source": []
  }
 ],
 "metadata": {
  "kernelspec": {
   "display_name": "Python 3",
   "language": "python",
   "name": "python3"
  },
  "language_info": {
   "codemirror_mode": {
    "name": "ipython",
    "version": 3
   },
   "file_extension": ".py",
   "mimetype": "text/x-python",
   "name": "python",
   "nbconvert_exporter": "python",
   "pygments_lexer": "ipython3",
   "version": "3.5.1"
  },
  "toc": {
   "base_numbering": 1,
   "nav_menu": {},
   "number_sections": true,
   "sideBar": true,
   "skip_h1_title": false,
   "title_cell": "Table of Contents",
   "title_sidebar": "Contents",
   "toc_cell": false,
   "toc_position": {},
   "toc_section_display": true,
   "toc_window_display": false
  }
 },
 "nbformat": 4,
 "nbformat_minor": 2
}
