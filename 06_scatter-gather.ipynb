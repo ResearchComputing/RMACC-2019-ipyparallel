{
 "cells": [
  {
   "cell_type": "markdown",
   "metadata": {},
   "source": [
    "<img src=\"https://www.colorado.edu/rc/sites/default/files/page/logo.png\"\n",
    "     alt=\"Logo for Research Computing @ University of Colorado Boulder\"\n",
    "     width=\"400\" />"
   ]
  },
  {
   "cell_type": "markdown",
   "metadata": {},
   "source": [
    "# Scatter/Gather of data"
   ]
  },
  {
   "cell_type": "markdown",
   "metadata": {},
   "source": [
    "One common task when parallel programming involves distributing (scattering) a list of numbers among\n",
    "the different processes or collating (gathering) a distributed list of numbers back to the hub processes.\n",
    "This example illustrates the basic mechanics of scattering\n",
    " and gathering.\n",
    " \n",
    " <img src=\"scatter.png\"\n",
    "     alt=\"Concept of scatter a list to engines \"\n",
    "     width=\"215\" />\n",
    "<img src=\"gather.png\"\n",
    "     alt=\"Concept of gather the values a list to engines \"\n",
    "     width=\"200\" />"
   ]
  },
  {
   "cell_type": "code",
   "execution_count": null,
   "metadata": {
    "collapsed": true
   },
   "outputs": [],
   "source": [
    "!ipcluster start -n 4 --daemonize"
   ]
  },
  {
   "cell_type": "code",
   "execution_count": null,
   "metadata": {},
   "outputs": [],
   "source": [
    "import ipyparallel\n",
    "\n",
    "profile = 'example-shas'\n",
    "rc = ipyparallel.Client(profile=profile)\n",
    "nengines = len(rc)\n",
    "nengines"
   ]
  },
  {
   "cell_type": "markdown",
   "metadata": {},
   "source": [
    "## Create list of data"
   ]
  },
  {
   "cell_type": "code",
   "execution_count": null,
   "metadata": {},
   "outputs": [],
   "source": [
    "all_proc  = rc[:]\n",
    "all_proc.block=True\n",
    "\n",
    "a = []\n",
    "lsize=6*nengines\n",
    "for i in range(0,lsize):\n",
    "    a.append(i**2)\n",
    "\n",
    "a"
   ]
  },
  {
   "cell_type": "markdown",
   "metadata": {},
   "source": [
    "## Scatter the list\n",
    "\n",
    "We scatter the list \"a\" from the hub out to all engines. \n",
    "Each process stores a portion of \"a\" locally in the variable \"mylist\""
   ]
  },
  {
   "cell_type": "code",
   "execution_count": null,
   "metadata": {
    "collapsed": true
   },
   "outputs": [],
   "source": [
    "all_proc.scatter('mylist',a)"
   ]
  },
  {
   "cell_type": "code",
   "execution_count": null,
   "metadata": {},
   "outputs": [],
   "source": [
    "%%px\n",
    "print(mylist)"
   ]
  },
  {
   "cell_type": "markdown",
   "metadata": {},
   "source": [
    "## Get `mylist` to list of lists\n",
    "\n",
    "Create a variable on the controller that holds the contents of `mylist` for each engine.\n",
    "sub_lists is a nested list, `sub_list[i][:]` holds the value `mylist`for engine 'i'"
   ]
  },
  {
   "cell_type": "code",
   "execution_count": null,
   "metadata": {},
   "outputs": [],
   "source": [
    "sub_lists = all_proc['mylist']\n",
    "\n",
    "print('\\n ',nengines,\" Python engines are active.\\n\")\n",
    "\n",
    "print(' ')\n",
    "for i in range(nengines):\n",
    "    istr = '{:02d}'.format(i)  # returns a 2-digit string whose value is i\n",
    "    msg = 'Engine '+istr+':   list segment = '\n",
    "    print(msg, sub_lists[i])\n",
    "print(' ')"
   ]
  },
  {
   "cell_type": "markdown",
   "metadata": {},
   "source": [
    "## Gather the `mylist` data\n",
    "\n",
    "Gather `mylist` back to the controller, store the contents in a list named gathered."
   ]
  },
  {
   "cell_type": "code",
   "execution_count": null,
   "metadata": {},
   "outputs": [],
   "source": [
    "gathered = all_proc.gather('mylist')\n",
    "print('Gathered list: ', gathered[:], type(gathered))"
   ]
  },
  {
   "cell_type": "code",
   "execution_count": null,
   "metadata": {},
   "outputs": [],
   "source": [
    "print(sub_lists)"
   ]
  },
  {
   "cell_type": "code",
   "execution_count": null,
   "metadata": {},
   "outputs": [],
   "source": [
    "!ipcluster stop"
   ]
  },
  {
   "cell_type": "code",
   "execution_count": null,
   "metadata": {
    "collapsed": true
   },
   "outputs": [],
   "source": []
  }
 ],
 "metadata": {
  "kernelspec": {
   "display_name": "Python 3",
   "language": "python",
   "name": "python3"
  },
  "language_info": {
   "codemirror_mode": {
    "name": "ipython",
    "version": 3
   },
   "file_extension": ".py",
   "mimetype": "text/x-python",
   "name": "python",
   "nbconvert_exporter": "python",
   "pygments_lexer": "ipython3",
   "version": "3.5.1"
  },
  "toc": {
   "base_numbering": 1,
   "nav_menu": {},
   "number_sections": true,
   "sideBar": true,
   "skip_h1_title": false,
   "title_cell": "Table of Contents",
   "title_sidebar": "Contents",
   "toc_cell": false,
   "toc_position": {},
   "toc_section_display": true,
   "toc_window_display": false
  }
 },
 "nbformat": 4,
 "nbformat_minor": 2
}
