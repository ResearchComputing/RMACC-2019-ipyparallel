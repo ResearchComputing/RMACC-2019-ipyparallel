{
 "cells": [
  {
   "cell_type": "markdown",
   "metadata": {},
   "source": [
    "<img src=\"https://www.colorado.edu/rc/sites/default/files/page/logo.png\"\n",
    "     alt=\"Logo for Research Computing @ University of Colorado Boulder\"\n",
    "     width=\"400\" />"
   ]
  },
  {
   "cell_type": "markdown",
   "metadata": {},
   "source": [
    "# Scatter/Gather of data"
   ]
  },
  {
   "cell_type": "markdown",
   "metadata": {},
   "source": [
    "One common task when parallel programming involves distributing (scattering) a list of numbers among\n",
    "the different processes or collating (gathering) a distributed list of numbers back to the hub processes.\n",
    "This example illustrates the basic mechanics of scattering\n",
    " and gathering.\n",
    " \n",
    " <img src=\"scatter.png\"\n",
    "     alt=\"Concept of scatter a list to engines \"\n",
    "     width=\"215\" />\n",
    "<img src=\"gather.png\"\n",
    "     alt=\"Concept of gather the values a list to engines \"\n",
    "     width=\"200\" />"
   ]
  },
  {
   "cell_type": "code",
   "execution_count": 2,
   "metadata": {},
   "outputs": [],
   "source": [
    "!ipcluster start -n 4 --daemonize"
   ]
  },
  {
   "cell_type": "code",
   "execution_count": 4,
   "metadata": {},
   "outputs": [
    {
     "data": {
      "text/plain": [
       "4"
      ]
     },
     "execution_count": 4,
     "metadata": {},
     "output_type": "execute_result"
    }
   ],
   "source": [
    "import ipyparallel\n",
    "\n",
    "rc  =ipyparallel.Client(profile='default')\n",
    "nengines = len(rc)\n",
    "nengines"
   ]
  },
  {
   "cell_type": "markdown",
   "metadata": {},
   "source": [
    "## Create list of data"
   ]
  },
  {
   "cell_type": "code",
   "execution_count": 5,
   "metadata": {},
   "outputs": [
    {
     "data": {
      "text/plain": [
       "[0,\n",
       " 1,\n",
       " 4,\n",
       " 9,\n",
       " 16,\n",
       " 25,\n",
       " 36,\n",
       " 49,\n",
       " 64,\n",
       " 81,\n",
       " 100,\n",
       " 121,\n",
       " 144,\n",
       " 169,\n",
       " 196,\n",
       " 225,\n",
       " 256,\n",
       " 289,\n",
       " 324,\n",
       " 361,\n",
       " 400,\n",
       " 441,\n",
       " 484,\n",
       " 529]"
      ]
     },
     "execution_count": 5,
     "metadata": {},
     "output_type": "execute_result"
    }
   ],
   "source": [
    "all_proc  = rc[:]\n",
    "all_proc.block=True\n",
    "\n",
    "a = []\n",
    "lsize=6*nengines\n",
    "for i in range(0,lsize):\n",
    "    a.append(i**2)\n",
    "\n",
    "a"
   ]
  },
  {
   "cell_type": "markdown",
   "metadata": {},
   "source": [
    "## Scatter the list\n",
    "\n",
    "We scatter the list \"a\" from the hub out to all engines. \n",
    "Each process stores a portion of \"a\" locally in the variable \"mylist\""
   ]
  },
  {
   "cell_type": "code",
   "execution_count": 6,
   "metadata": {},
   "outputs": [],
   "source": [
    "all_proc.scatter('mylist',a)"
   ]
  },
  {
   "cell_type": "code",
   "execution_count": 7,
   "metadata": {},
   "outputs": [
    {
     "name": "stdout",
     "output_type": "stream",
     "text": [
      "[stdout:0] [0, 1, 4, 9, 16, 25]\n",
      "[stdout:1] [36, 49, 64, 81, 100, 121]\n",
      "[stdout:2] [144, 169, 196, 225, 256, 289]\n",
      "[stdout:3] [324, 361, 400, 441, 484, 529]\n"
     ]
    }
   ],
   "source": [
    "%%px\n",
    "print(mylist)"
   ]
  },
  {
   "cell_type": "markdown",
   "metadata": {},
   "source": [
    "## Get `mylist` to list of lists\n",
    "\n",
    "Create a variable on the controller that holds the contents of `mylist` for each engine.\n",
    "sub_lists is a nested list, `sub_list[i][:]` holds the value `mylist`for engine 'i'"
   ]
  },
  {
   "cell_type": "code",
   "execution_count": 8,
   "metadata": {},
   "outputs": [
    {
     "name": "stdout",
     "output_type": "stream",
     "text": [
      "\n",
      "  4  Python engines are active.\n",
      "\n",
      " \n",
      "Engine 00:   list segment =  [0, 1, 4, 9, 16, 25]\n",
      "Engine 01:   list segment =  [36, 49, 64, 81, 100, 121]\n",
      "Engine 02:   list segment =  [144, 169, 196, 225, 256, 289]\n",
      "Engine 03:   list segment =  [324, 361, 400, 441, 484, 529]\n",
      " \n"
     ]
    }
   ],
   "source": [
    "sub_lists = all_proc['mylist']\n",
    "\n",
    "print('\\n ',nengines,\" Python engines are active.\\n\")\n",
    "\n",
    "print(' ')\n",
    "for i in range(nengines):\n",
    "    istr = '{:02d}'.format(i)  # returns a 2-digit string whose value is i\n",
    "    msg = 'Engine '+istr+':   list segment = '\n",
    "    print(msg, sub_lists[i])\n",
    "print(' ')"
   ]
  },
  {
   "cell_type": "markdown",
   "metadata": {},
   "source": [
    "## Gather the `mylist` data\n",
    "\n",
    "Gather `mylist` back to the controller, store the contents in a list named gathered."
   ]
  },
  {
   "cell_type": "code",
   "execution_count": 9,
   "metadata": {},
   "outputs": [
    {
     "name": "stdout",
     "output_type": "stream",
     "text": [
      "Gathered list:  [0, 1, 4, 9, 16, 25, 36, 49, 64, 81, 100, 121, 144, 169, 196, 225, 256, 289, 324, 361, 400, 441, 484, 529] <class 'list'>\n"
     ]
    }
   ],
   "source": [
    "gathered = all_proc.gather('mylist')\n",
    "print('Gathered list: ', gathered[:], type(gathered))"
   ]
  },
  {
   "cell_type": "code",
   "execution_count": 10,
   "metadata": {},
   "outputs": [
    {
     "name": "stdout",
     "output_type": "stream",
     "text": [
      "[[0, 1, 4, 9, 16, 25], [36, 49, 64, 81, 100, 121], [144, 169, 196, 225, 256, 289], [324, 361, 400, 441, 484, 529]]\n"
     ]
    }
   ],
   "source": [
    "print(sub_lists)"
   ]
  },
  {
   "cell_type": "code",
   "execution_count": 11,
   "metadata": {},
   "outputs": [
    {
     "name": "stdout",
     "output_type": "stream",
     "text": [
      "2019-05-20 21:39:18.609 [IPClusterStop] Stopping cluster [pid=32568] with [signal=<Signals.SIGINT: 2>]\r\n"
     ]
    }
   ],
   "source": [
    "!ipcluster stop"
   ]
  },
  {
   "cell_type": "code",
   "execution_count": null,
   "metadata": {},
   "outputs": [],
   "source": []
  }
 ],
 "metadata": {
  "kernelspec": {
   "display_name": "Python 3",
   "language": "python",
   "name": "python3"
  },
  "language_info": {
   "codemirror_mode": {
    "name": "ipython",
    "version": 3
   },
   "file_extension": ".py",
   "mimetype": "text/x-python",
   "name": "python",
   "nbconvert_exporter": "python",
   "pygments_lexer": "ipython3",
   "version": "3.7.2"
  },
  "toc": {
   "base_numbering": 1,
   "nav_menu": {},
   "number_sections": true,
   "sideBar": true,
   "skip_h1_title": false,
   "title_cell": "Table of Contents",
   "title_sidebar": "Contents",
   "toc_cell": false,
   "toc_position": {},
   "toc_section_display": true,
   "toc_window_display": false
  }
 },
 "nbformat": 4,
 "nbformat_minor": 2
}
