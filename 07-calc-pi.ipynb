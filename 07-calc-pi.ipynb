{
 "cells": [
  {
   "cell_type": "markdown",
   "metadata": {},
   "source": [
    "<img src=\"https://www.colorado.edu/rc/sites/default/files/page/logo.png\"\n",
    "     alt=\"Logo for Research Computing @ University of Colorado Boulder\"\n",
    "     width=\"400\" />\n",
    "# Parallel computation of $\\pi$\n",
    "\n",
    "In this example, each engine computes a unique estimate of pi.\n",
    "The result is averaged across all engines in the cluster."
   ]
  },
  {
   "cell_type": "code",
   "execution_count": 3,
   "metadata": {},
   "outputs": [],
   "source": [
    "!ipcluster start -n 4 --daemonize"
   ]
  },
  {
   "cell_type": "code",
   "execution_count": 4,
   "metadata": {},
   "outputs": [],
   "source": [
    "import ipyparallel\n",
    "import random\n",
    "import time\n",
    "import numpy as np\n",
    "\n",
    "def estimate_pi(n):\n",
    "    count = 0\n",
    "    for i in range(n):\n",
    "        x = random.random()\n",
    "        y = random.random()\n",
    "        if (x**2 + y**2) <= 1:\n",
    "            count += 1\n",
    "    return 4.0*count/float(n)"
   ]
  },
  {
   "cell_type": "markdown",
   "metadata": {},
   "source": [
    "## Serial calculation"
   ]
  },
  {
   "cell_type": "code",
   "execution_count": 5,
   "metadata": {},
   "outputs": [
    {
     "name": "stdout",
     "output_type": "stream",
     "text": [
      "\n",
      "\n",
      "\n",
      "\n",
      "Serial Estimation of Pi\n",
      "\n",
      "Estimation based on 1 points:  4.0 Calculation time (seconds) :  1.5020370483398438e-05\n",
      "Estimation based on 10 points:  3.2 Calculation time (seconds) :  1.1205673217773438e-05\n",
      "Estimation based on 100 points:  3.36 Calculation time (seconds) :  7.390975952148438e-05\n",
      "Estimation based on 1000 points:  3.256 Calculation time (seconds) :  0.0005979537963867188\n",
      "Estimation based on 10000 points:  3.142 Calculation time (seconds) :  0.005872249603271484\n",
      "Estimation based on 100000 points:  3.14152 Calculation time (seconds) :  0.055680036544799805\n",
      "Estimation based on 1000000 points:  3.14016 Calculation time (seconds) :  0.4819221496582031\n",
      "Estimation based on 10000000 points:  3.1420904 Calculation time (seconds) :  4.759747743606567\n"
     ]
    }
   ],
   "source": [
    "print('\\n\\n\\n')\n",
    "print('Serial Estimation of Pi')\n",
    "print('')\n",
    "\n",
    "for i in range(8):\n",
    "    nx = 10**i\n",
    "\n",
    "    t0 = time.time()\n",
    "\n",
    "    est_pi = estimate_pi(nx)\n",
    "\n",
    "    t1 = time.time()\n",
    "    tval = t1-t0\n",
    "\n",
    "    msg = 'Estimation based on '+str(10**i)+' points: '\n",
    "    tmsg = 'Calculation time (seconds) : '\n",
    "    print(msg,est_pi,tmsg,tval)"
   ]
  },
  {
   "cell_type": "markdown",
   "metadata": {},
   "source": [
    "## Parallel calculation"
   ]
  },
  {
   "cell_type": "code",
   "execution_count": 6,
   "metadata": {},
   "outputs": [
    {
     "data": {
      "text/plain": [
       "4"
      ]
     },
     "execution_count": 6,
     "metadata": {},
     "output_type": "execute_result"
    }
   ],
   "source": [
    "rc=ipyparallel.Client(profile='default')\n",
    "nengines = len(rc)\n",
    "all_proc = rc[:]\n",
    "all_proc.block = True\n",
    "nengines"
   ]
  },
  {
   "cell_type": "markdown",
   "metadata": {},
   "source": [
    "### Import modules on the engines\n",
    "\n",
    "Each engine has its own namespace, so functions, variables ... need to be defined on those engines. We can do this with the parallel magic commands as show. Alternativley you can use `sync_imports`"
   ]
  },
  {
   "cell_type": "code",
   "execution_count": 7,
   "metadata": {},
   "outputs": [
    {
     "name": "stdout",
     "output_type": "stream",
     "text": [
      "importing random on engine(s)\n"
     ]
    }
   ],
   "source": [
    "with all_proc.sync_imports():\n",
    "    import random"
   ]
  },
  {
   "cell_type": "markdown",
   "metadata": {},
   "source": [
    "### Running the calculation in parallel"
   ]
  },
  {
   "cell_type": "code",
   "execution_count": 8,
   "metadata": {},
   "outputs": [
    {
     "name": "stdout",
     "output_type": "stream",
     "text": [
      "\n",
      "\n",
      "\n",
      "\n",
      "Parallel Estimation of Pi\n",
      "\n",
      "Estimation based on 100 points:  3.4 Calculation time (seconds) :  0.02008986473083496\n",
      "Estimation based on 1000 points:  3.16 Calculation time (seconds) :  0.014931917190551758\n",
      "Estimation based on 10000 points:  3.1372 Calculation time (seconds) :  0.014739990234375\n",
      "Estimation based on 100000 points:  3.13596 Calculation time (seconds) :  0.02659893035888672\n",
      "Estimation based on 1000000 points:  3.143408 Calculation time (seconds) :  0.15084528923034668\n",
      "Estimation based on 10000000 points:  3.1416148 Calculation time (seconds) :  1.4087960720062256\n"
     ]
    }
   ],
   "source": [
    "print('\\n\\n\\n')\n",
    "print('Parallel Estimation of Pi')\n",
    "print('')\n",
    "\n",
    "#Now in parallel\n",
    "for i in range(2,8):\n",
    "    nx = 10**i\n",
    "\n",
    "    t0 = time.time()\n",
    "\n",
    "    #[nx//nengines]*nengines creates a list of length nengines, where each element\n",
    "    # has value nx//nengines.  Each process gets one element of this list \n",
    "    # and passes it to estimate_pi\n",
    "\n",
    "    pi_estimates = all_proc.map_sync(estimate_pi, [nx//nengines]*nengines)\n",
    "\n",
    "    est_pi = np.mean(pi_estimates)\n",
    "\n",
    "    t1 = time.time()\n",
    "    tval = t1-t0\n",
    "\n",
    "    msg = 'Estimation based on '+str(10**i)+' points: '\n",
    "    tmsg = 'Calculation time (seconds) : '\n",
    "    print(msg,est_pi,tmsg,tval)\n",
    "\n"
   ]
  },
  {
   "cell_type": "code",
   "execution_count": 9,
   "metadata": {},
   "outputs": [
    {
     "name": "stdout",
     "output_type": "stream",
     "text": [
      "2019-05-20 21:41:07.505 [IPClusterStop] Stopping cluster [pid=32652] with [signal=<Signals.SIGINT: 2>]\r\n"
     ]
    }
   ],
   "source": [
    "!ipcluster stop"
   ]
  },
  {
   "cell_type": "code",
   "execution_count": null,
   "metadata": {},
   "outputs": [],
   "source": []
  }
 ],
 "metadata": {
  "kernelspec": {
   "display_name": "Python 3",
   "language": "python",
   "name": "python3"
  },
  "language_info": {
   "codemirror_mode": {
    "name": "ipython",
    "version": 3
   },
   "file_extension": ".py",
   "mimetype": "text/x-python",
   "name": "python",
   "nbconvert_exporter": "python",
   "pygments_lexer": "ipython3",
   "version": "3.7.2"
  },
  "toc": {
   "base_numbering": 1,
   "nav_menu": {},
   "number_sections": true,
   "sideBar": true,
   "skip_h1_title": false,
   "title_cell": "Table of Contents",
   "title_sidebar": "Contents",
   "toc_cell": false,
   "toc_position": {},
   "toc_section_display": true,
   "toc_window_display": false
  }
 },
 "nbformat": 4,
 "nbformat_minor": 2
}
