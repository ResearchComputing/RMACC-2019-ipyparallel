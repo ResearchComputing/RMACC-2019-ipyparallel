{
 "cells": [
  {
   "cell_type": "markdown",
   "metadata": {},
   "source": [
    "<img src=\"https://www.colorado.edu/rc/sites/default/files/page/logo.png\"\n",
    "     alt=\"Logo for Research Computing @ University of Colorado Boulder\"\n",
    "     width=\"400\" />\n",
    "     \n",
    "# Overview over `ipyparallel`"
   ]
  },
  {
   "cell_type": "markdown",
   "metadata": {},
   "source": [
    "## Introduction"
   ]
  },
  {
   "cell_type": "markdown",
   "metadata": {},
   "source": [
    "`IPython` supports many different styles of parallelism:\n",
    "- Task parallelism\n",
    "- Data parallel\n",
    "- Single program, multiple data parallelism\n",
    "- Multiple program, multiple data parallelism\n",
    "- Combination of all approaches above\n"
   ]
  },
  {
   "cell_type": "markdown",
   "metadata": {},
   "source": [
    "## Typical use cases\n",
    "\n",
    "- Quickly parallelize algorithms that are embarrassingly parallel.\n",
    "- Analyze and visualize large datasets interactively using matplotlib or other python libraries.\n",
    "- Run a set of tasks on several nodes of a cluster using dynamic load balancing.\n",
    "- Steer a MPI based simulation on a supercomputer from on IPython session on your laptop\n",
    "- Develop, test, and debug parallel algorithms that use MPI interactively\n"
   ]
  },
  {
   "cell_type": "markdown",
   "metadata": {},
   "source": [
    "## Architecture overview\n",
    "\n",
    "When we start an `ipcluster` you generally start one controller process and several engines. The controller and engines do not necessarily run on the same node (or computer).\n",
    "\n",
    "Most of the code will probably run on the controller, but you will run the compute intensive portions of your program on the engines.\n",
    "\n",
    "The engines need to receive data and code from the controller:\n",
    "\n",
    "<img src=\"./controller_send.png\"\n",
    "     alt=\"Controller with 2 engines sending data and code\"\n",
    "     width=\"300\" />\n",
    "    <img src=\"./controller_receive.png\"\n",
    "     alt=\"Controller with 2 engines receiving data\"\n",
    "     width=\"300\" /> "
   ]
  },
  {
   "cell_type": "markdown",
   "metadata": {},
   "source": [
    "# Easy parallelism using `map`"
   ]
  },
  {
   "cell_type": "markdown",
   "metadata": {},
   "source": [
    "## Starting an `ipcluster`\n",
    "\n",
    "Using the cluster tab or"
   ]
  },
  {
   "cell_type": "code",
   "execution_count": 6,
   "metadata": {},
   "outputs": [],
   "source": [
    "!ipcluster start -n 4 --daemonize"
   ]
  },
  {
   "cell_type": "markdown",
   "metadata": {},
   "source": [
    "## Loading the right modules"
   ]
  },
  {
   "cell_type": "code",
   "execution_count": 7,
   "metadata": {},
   "outputs": [],
   "source": [
    "import ipyparallel"
   ]
  },
  {
   "cell_type": "markdown",
   "metadata": {},
   "source": [
    "## Create a client instance, used to connect the controller to the remote engines"
   ]
  },
  {
   "cell_type": "code",
   "execution_count": 8,
   "metadata": {},
   "outputs": [
    {
     "data": {
      "text/plain": [
       "4"
      ]
     },
     "execution_count": 8,
     "metadata": {},
     "output_type": "execute_result"
    }
   ],
   "source": [
    "rc = ipyparallel.Client(profile='default')\n",
    "nengines = len(rc)\n",
    "nengines"
   ]
  },
  {
   "cell_type": "code",
   "execution_count": 9,
   "metadata": {},
   "outputs": [
    {
     "data": {
      "text/plain": [
       "[0, 1, 2, 3]"
      ]
     },
     "execution_count": 9,
     "metadata": {},
     "output_type": "execute_result"
    }
   ],
   "source": [
    "rc.ids"
   ]
  },
  {
   "cell_type": "markdown",
   "metadata": {},
   "source": [
    "## Create a `DirectView`\n",
    "\n",
    "A `DirectView` is created by list access to a client instance:"
   ]
  },
  {
   "cell_type": "code",
   "execution_count": 10,
   "metadata": {
    "run_control": {
     "marked": true
    }
   },
   "outputs": [
    {
     "name": "stdout",
     "output_type": "stream",
     "text": [
      "<DirectView [0, 1, 2, 3]>\n"
     ]
    }
   ],
   "source": [
    "dvall  = rc[:]\n",
    "print(dvall)"
   ]
  },
  {
   "cell_type": "code",
   "execution_count": 11,
   "metadata": {},
   "outputs": [
    {
     "data": {
      "text/plain": [
       "ipyparallel.client.view.DirectView"
      ]
     },
     "execution_count": 11,
     "metadata": {},
     "output_type": "execute_result"
    }
   ],
   "source": [
    "type(dvall)"
   ]
  },
  {
   "cell_type": "markdown",
   "metadata": {},
   "source": [
    "## By default only the controller executes code"
   ]
  },
  {
   "cell_type": "code",
   "execution_count": 12,
   "metadata": {},
   "outputs": [
    {
     "name": "stdout",
     "output_type": "stream",
     "text": [
      "\n",
      " Running on rgnt-1-15-101-edu.int.colorado.edu\n"
     ]
    }
   ],
   "source": [
    "import socket\n",
    "print('\\n Running on',socket.gethostname())"
   ]
  },
  {
   "cell_type": "markdown",
   "metadata": {},
   "source": [
    "## Parallelizing the serial image example\n",
    "Converting a list of images to grayscale"
   ]
  },
  {
   "cell_type": "code",
   "execution_count": 13,
   "metadata": {},
   "outputs": [],
   "source": [
    "def convert2greyscale(path):\n",
    "    from skimage.io import imread\n",
    "    from skimage.color import rgb2gray\n",
    "    img = imread(path)\n",
    "    img_gray = rgb2gray(img)\n",
    "    return img_gray"
   ]
  },
  {
   "cell_type": "markdown",
   "metadata": {},
   "source": [
    "Note: importing the modules inside the functions avoids problems accessing modules on the engines. \n",
    "Other approaches are possible and will be discussed in later notebooks."
   ]
  },
  {
   "cell_type": "code",
   "execution_count": 14,
   "metadata": {},
   "outputs": [],
   "source": [
    "import os\n",
    "pictures_dir = os.path.join('.', 'images', 'cornflower')\n",
    "pictures = []\n",
    "for directory, subdirs, files in os.walk(pictures_dir):\n",
    "    for fname in files:\n",
    "        if fname.lower().endswith(('.jpg', '.png')):\n",
    "            pictures.append(os.path.join(directory, fname))"
   ]
  },
  {
   "cell_type": "markdown",
   "metadata": {},
   "source": [
    "### The serial exampel for reference"
   ]
  },
  {
   "cell_type": "code",
   "execution_count": 15,
   "metadata": {},
   "outputs": [
    {
     "name": "stdout",
     "output_type": "stream",
     "text": [
      "CPU times: user 17.4 s, sys: 4.71 s, total: 22.1 s\n",
      "Wall time: 15.8 s\n"
     ]
    }
   ],
   "source": [
    "%%time\n",
    "sconverted = [*map(convert2greyscale, pictures[:32])]"
   ]
  },
  {
   "cell_type": "markdown",
   "metadata": {},
   "source": [
    "### Parallelizing using the parallel map function "
   ]
  },
  {
   "cell_type": "code",
   "execution_count": 16,
   "metadata": {
    "scrolled": true
   },
   "outputs": [
    {
     "name": "stdout",
     "output_type": "stream",
     "text": [
      "CPU times: user 39 ms, sys: 1.5 s, total: 1.54 s\n",
      "Wall time: 14.2 s\n"
     ]
    }
   ],
   "source": [
    "%%time\n",
    "pconverted = dvall.map_sync(convert2greyscale, pictures[:32])"
   ]
  },
  {
   "cell_type": "markdown",
   "metadata": {},
   "source": [
    "   ### Try again with a load-balanced view"
   ]
  },
  {
   "cell_type": "code",
   "execution_count": 17,
   "metadata": {},
   "outputs": [],
   "source": [
    "dlb = rc.load_balanced_view()"
   ]
  },
  {
   "cell_type": "code",
   "execution_count": 19,
   "metadata": {
    "scrolled": true
   },
   "outputs": [
    {
     "name": "stdout",
     "output_type": "stream",
     "text": [
      "CPU times: user 148 ms, sys: 1.54 s, total: 1.68 s\n",
      "Wall time: 8.66 s\n"
     ]
    }
   ],
   "source": [
    "%%time\n",
    "lbconverted = dlb.map_sync(convert2greyscale, pictures[:32])"
   ]
  },
  {
   "cell_type": "code",
   "execution_count": null,
   "metadata": {},
   "outputs": [],
   "source": []
  }
 ],
 "metadata": {
  "kernelspec": {
   "display_name": "Python 3",
   "language": "python",
   "name": "python3"
  },
  "language_info": {
   "codemirror_mode": {
    "name": "ipython",
    "version": 3
   },
   "file_extension": ".py",
   "mimetype": "text/x-python",
   "name": "python",
   "nbconvert_exporter": "python",
   "pygments_lexer": "ipython3",
   "version": "3.7.2"
  },
  "toc": {
   "base_numbering": 1,
   "nav_menu": {},
   "number_sections": true,
   "sideBar": true,
   "skip_h1_title": false,
   "title_cell": "Table of Contents",
   "title_sidebar": "Contents",
   "toc_cell": false,
   "toc_position": {},
   "toc_section_display": true,
   "toc_window_display": false
  }
 },
 "nbformat": 4,
 "nbformat_minor": 2
}
