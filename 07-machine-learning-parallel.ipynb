{
 "cells": [
  {
   "cell_type": "code",
   "execution_count": 79,
   "metadata": {
    "collapsed": true
   },
   "outputs": [],
   "source": [
    "from sklearn.datasets import load_digits\n",
    "from sklearn.model_selection import train_test_split"
   ]
  },
  {
   "cell_type": "code",
   "execution_count": 80,
   "metadata": {},
   "outputs": [],
   "source": [
    "from sklearn.model_selection import GridSearchCV\n",
    "from sklearn.svm import SVC"
   ]
  },
  {
   "cell_type": "code",
   "execution_count": 81,
   "metadata": {
    "collapsed": true
   },
   "outputs": [],
   "source": [
    "digits = load_digits()"
   ]
  },
  {
   "cell_type": "code",
   "execution_count": 82,
   "metadata": {},
   "outputs": [],
   "source": [
    "bview = rc.load_balanced_view()\n",
    "bview.register_joblib_backend()"
   ]
  },
  {
   "cell_type": "code",
   "execution_count": 83,
   "metadata": {
    "collapsed": true
   },
   "outputs": [],
   "source": [
    "X_train, X_test, y_train, y_test = train_test_split(digits.data,\n",
    "                                                    digits.target,\n",
    "                                                    test_size=0.3)"
   ]
  },
  {
   "cell_type": "code",
   "execution_count": 84,
   "metadata": {
    "collapsed": true
   },
   "outputs": [],
   "source": [
    "import numpy as np"
   ]
  },
  {
   "cell_type": "code",
   "execution_count": 85,
   "metadata": {
    "collapsed": true
   },
   "outputs": [],
   "source": [
    "param_space = {\n",
    "    'C': np.logspace(-6, 6, 12),\n",
    "}"
   ]
  },
  {
   "cell_type": "code",
   "execution_count": 91,
   "metadata": {},
   "outputs": [],
   "source": [
    "svc_rbf = SVC(kernel='rbf',\n",
    "              shrinking=False, gamma='auto')\n",
    "search = GridSearchCV(svc_rbf,\n",
    "                      param_space,\n",
    "                      return_train_score=True, cv=5,\n",
    "                      n_jobs=nengines)"
   ]
  },
  {
   "cell_type": "code",
   "execution_count": 92,
   "metadata": {},
   "outputs": [
    {
     "name": "stderr",
     "output_type": "stream",
     "text": [
      "/home/thha0714/.local/lib/python3.5/site-packages/sklearn/model_selection/_search.py:813: DeprecationWarning: The default of the `iid` parameter will change from True to False in version 0.22 and will be removed in 0.24. This will change numeric results when test-set sizes are unequal.\n",
      "  DeprecationWarning)\n"
     ]
    }
   ],
   "source": [
    "gamma = 0.1\n",
    " \n",
    "with parallel_backend('threading'):\n",
    "    search.fit(X_train, y_train)"
   ]
  },
  {
   "cell_type": "code",
   "execution_count": 93,
   "metadata": {
    "collapsed": true
   },
   "outputs": [],
   "source": [
    "results = search.cv_results_"
   ]
  },
  {
   "cell_type": "code",
   "execution_count": 94,
   "metadata": {},
   "outputs": [],
   "source": [
    "import pandas as pd\n",
    "results = pd.DataFrame(results)"
   ]
  },
  {
   "cell_type": "code",
   "execution_count": 95,
   "metadata": {},
   "outputs": [
    {
     "data": {
      "text/html": [
       "<div>\n",
       "<table border=\"1\" class=\"dataframe\">\n",
       "  <thead>\n",
       "    <tr style=\"text-align: right;\">\n",
       "      <th></th>\n",
       "      <th>mean_fit_time</th>\n",
       "      <th>mean_score_time</th>\n",
       "      <th>mean_test_score</th>\n",
       "      <th>mean_train_score</th>\n",
       "      <th>param_C</th>\n",
       "      <th>params</th>\n",
       "      <th>rank_test_score</th>\n",
       "      <th>split0_test_score</th>\n",
       "      <th>split0_train_score</th>\n",
       "      <th>split1_test_score</th>\n",
       "      <th>...</th>\n",
       "      <th>split2_test_score</th>\n",
       "      <th>split2_train_score</th>\n",
       "      <th>split3_test_score</th>\n",
       "      <th>split3_train_score</th>\n",
       "      <th>split4_test_score</th>\n",
       "      <th>split4_train_score</th>\n",
       "      <th>std_fit_time</th>\n",
       "      <th>std_score_time</th>\n",
       "      <th>std_test_score</th>\n",
       "      <th>std_train_score</th>\n",
       "    </tr>\n",
       "  </thead>\n",
       "  <tbody>\n",
       "    <tr>\n",
       "      <th>0</th>\n",
       "      <td>2.783833</td>\n",
       "      <td>0.353672</td>\n",
       "      <td>0.124901</td>\n",
       "      <td>0.23096</td>\n",
       "      <td>1e-06</td>\n",
       "      <td>{'C': 1e-06}</td>\n",
       "      <td>7</td>\n",
       "      <td>0.128405</td>\n",
       "      <td>0.21</td>\n",
       "      <td>0.125984</td>\n",
       "      <td>...</td>\n",
       "      <td>0.128</td>\n",
       "      <td>0.210526</td>\n",
       "      <td>0.120968</td>\n",
       "      <td>0.210109</td>\n",
       "      <td>0.120968</td>\n",
       "      <td>0.210109</td>\n",
       "      <td>0.019709</td>\n",
       "      <td>0.048478</td>\n",
       "      <td>0.00328</td>\n",
       "      <td>0.041549</td>\n",
       "    </tr>\n",
       "    <tr>\n",
       "      <th>1</th>\n",
       "      <td>2.750185</td>\n",
       "      <td>0.314881</td>\n",
       "      <td>0.124901</td>\n",
       "      <td>0.23096</td>\n",
       "      <td>1.23285e-05</td>\n",
       "      <td>{'C': 1.2328467394420658e-05}</td>\n",
       "      <td>7</td>\n",
       "      <td>0.128405</td>\n",
       "      <td>0.21</td>\n",
       "      <td>0.125984</td>\n",
       "      <td>...</td>\n",
       "      <td>0.128</td>\n",
       "      <td>0.210526</td>\n",
       "      <td>0.120968</td>\n",
       "      <td>0.210109</td>\n",
       "      <td>0.120968</td>\n",
       "      <td>0.210109</td>\n",
       "      <td>0.002963</td>\n",
       "      <td>0.010802</td>\n",
       "      <td>0.00328</td>\n",
       "      <td>0.041549</td>\n",
       "    </tr>\n",
       "    <tr>\n",
       "      <th>2</th>\n",
       "      <td>2.738993</td>\n",
       "      <td>0.344982</td>\n",
       "      <td>0.124901</td>\n",
       "      <td>0.23096</td>\n",
       "      <td>0.000151991</td>\n",
       "      <td>{'C': 0.0001519911082952933}</td>\n",
       "      <td>7</td>\n",
       "      <td>0.128405</td>\n",
       "      <td>0.21</td>\n",
       "      <td>0.125984</td>\n",
       "      <td>...</td>\n",
       "      <td>0.128</td>\n",
       "      <td>0.210526</td>\n",
       "      <td>0.120968</td>\n",
       "      <td>0.210109</td>\n",
       "      <td>0.120968</td>\n",
       "      <td>0.210109</td>\n",
       "      <td>0.025304</td>\n",
       "      <td>0.023736</td>\n",
       "      <td>0.00328</td>\n",
       "      <td>0.041549</td>\n",
       "    </tr>\n",
       "    <tr>\n",
       "      <th>3</th>\n",
       "      <td>2.797792</td>\n",
       "      <td>0.361592</td>\n",
       "      <td>0.124901</td>\n",
       "      <td>0.23096</td>\n",
       "      <td>0.00187382</td>\n",
       "      <td>{'C': 0.001873817422860383}</td>\n",
       "      <td>7</td>\n",
       "      <td>0.128405</td>\n",
       "      <td>0.21</td>\n",
       "      <td>0.125984</td>\n",
       "      <td>...</td>\n",
       "      <td>0.128</td>\n",
       "      <td>0.210526</td>\n",
       "      <td>0.120968</td>\n",
       "      <td>0.210109</td>\n",
       "      <td>0.120968</td>\n",
       "      <td>0.210109</td>\n",
       "      <td>0.032210</td>\n",
       "      <td>0.023578</td>\n",
       "      <td>0.00328</td>\n",
       "      <td>0.041549</td>\n",
       "    </tr>\n",
       "    <tr>\n",
       "      <th>4</th>\n",
       "      <td>2.823299</td>\n",
       "      <td>0.329794</td>\n",
       "      <td>0.124901</td>\n",
       "      <td>0.23096</td>\n",
       "      <td>0.0231013</td>\n",
       "      <td>{'C': 0.02310129700083158}</td>\n",
       "      <td>7</td>\n",
       "      <td>0.128405</td>\n",
       "      <td>0.21</td>\n",
       "      <td>0.125984</td>\n",
       "      <td>...</td>\n",
       "      <td>0.128</td>\n",
       "      <td>0.210526</td>\n",
       "      <td>0.120968</td>\n",
       "      <td>0.210109</td>\n",
       "      <td>0.120968</td>\n",
       "      <td>0.210109</td>\n",
       "      <td>0.039153</td>\n",
       "      <td>0.038847</td>\n",
       "      <td>0.00328</td>\n",
       "      <td>0.041549</td>\n",
       "    </tr>\n",
       "  </tbody>\n",
       "</table>\n",
       "<p>5 rows × 21 columns</p>\n",
       "</div>"
      ],
      "text/plain": [
       "   mean_fit_time  mean_score_time  mean_test_score  mean_train_score  \\\n",
       "0       2.783833         0.353672         0.124901           0.23096   \n",
       "1       2.750185         0.314881         0.124901           0.23096   \n",
       "2       2.738993         0.344982         0.124901           0.23096   \n",
       "3       2.797792         0.361592         0.124901           0.23096   \n",
       "4       2.823299         0.329794         0.124901           0.23096   \n",
       "\n",
       "       param_C                         params  rank_test_score  \\\n",
       "0        1e-06                   {'C': 1e-06}                7   \n",
       "1  1.23285e-05  {'C': 1.2328467394420658e-05}                7   \n",
       "2  0.000151991   {'C': 0.0001519911082952933}                7   \n",
       "3   0.00187382    {'C': 0.001873817422860383}                7   \n",
       "4    0.0231013     {'C': 0.02310129700083158}                7   \n",
       "\n",
       "   split0_test_score  split0_train_score  split1_test_score       ...         \\\n",
       "0           0.128405                0.21           0.125984       ...          \n",
       "1           0.128405                0.21           0.125984       ...          \n",
       "2           0.128405                0.21           0.125984       ...          \n",
       "3           0.128405                0.21           0.125984       ...          \n",
       "4           0.128405                0.21           0.125984       ...          \n",
       "\n",
       "   split2_test_score  split2_train_score  split3_test_score  \\\n",
       "0              0.128            0.210526           0.120968   \n",
       "1              0.128            0.210526           0.120968   \n",
       "2              0.128            0.210526           0.120968   \n",
       "3              0.128            0.210526           0.120968   \n",
       "4              0.128            0.210526           0.120968   \n",
       "\n",
       "   split3_train_score  split4_test_score  split4_train_score  std_fit_time  \\\n",
       "0            0.210109           0.120968            0.210109      0.019709   \n",
       "1            0.210109           0.120968            0.210109      0.002963   \n",
       "2            0.210109           0.120968            0.210109      0.025304   \n",
       "3            0.210109           0.120968            0.210109      0.032210   \n",
       "4            0.210109           0.120968            0.210109      0.039153   \n",
       "\n",
       "   std_score_time  std_test_score  std_train_score  \n",
       "0        0.048478         0.00328         0.041549  \n",
       "1        0.010802         0.00328         0.041549  \n",
       "2        0.023736         0.00328         0.041549  \n",
       "3        0.023578         0.00328         0.041549  \n",
       "4        0.038847         0.00328         0.041549  \n",
       "\n",
       "[5 rows x 21 columns]"
      ]
     },
     "execution_count": 95,
     "metadata": {},
     "output_type": "execute_result"
    }
   ],
   "source": [
    "results.head()"
   ]
  },
  {
   "cell_type": "code",
   "execution_count": null,
   "metadata": {
    "collapsed": true
   },
   "outputs": [],
   "source": []
  }
 ],
 "metadata": {
  "kernelspec": {
   "display_name": "Python 3",
   "language": "python",
   "name": "python3"
  },
  "language_info": {
   "codemirror_mode": {
    "name": "ipython",
    "version": 3
   },
   "file_extension": ".py",
   "mimetype": "text/x-python",
   "name": "python",
   "nbconvert_exporter": "python",
   "pygments_lexer": "ipython3",
   "version": "3.5.1"
  }
 },
 "nbformat": 4,
 "nbformat_minor": 2
}
